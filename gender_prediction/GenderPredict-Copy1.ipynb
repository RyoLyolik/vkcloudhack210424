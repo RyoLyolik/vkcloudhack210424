{
 "cells": [
  {
   "cell_type": "markdown",
   "id": "edcd6a96-e2f0-45ea-88d4-0cc11394ab07",
   "metadata": {},
   "source": [
    "## Предсказание пола/возраста по посещениям сайтов\n",
    "\n",
    "Для начала, подключим хранилище s3, содержащее исходные данные:"
   ]
  },
  {
   "cell_type": "code",
   "execution_count": 4,
   "id": "3ef00818-c3bf-4a01-ab3b-ed96f4ad32f3",
   "metadata": {
    "tags": []
   },
   "outputs": [],
   "source": [
    "!chmod 600 .s3_passwd\n",
    "!mkdir -p mnt\n",
    "!s3fs hsevkhack mnt -o url=http://hb.vkcs.cloud -o use_path_request_style -o passwd_file=.s3_passwd -o ro"
   ]
  },
  {
   "cell_type": "markdown",
   "id": "b18ac963-f688-4263-99dc-5fc0ba5d4225",
   "metadata": {
    "tags": []
   },
   "source": [
    "Убедимся, что в директории `mnt` содержатся соответствующие таблицы:"
   ]
  },
  {
   "cell_type": "code",
   "execution_count": 5,
   "id": "af0a3a60-6a01-4409-aec2-d891125a2dc2",
   "metadata": {
    "tags": []
   },
   "outputs": [
    {
     "name": "stdout",
     "output_type": "stream",
     "text": [
      "geo_dataframe.csv  requests  train_users.csv\n"
     ]
    }
   ],
   "source": [
    "!ls mnt/"
   ]
  },
  {
   "cell_type": "markdown",
   "id": "c173c190-dc10-4e36-b5dd-77197e312e08",
   "metadata": {},
   "source": [
    "Если по каким-то причинам директорию смонтировать не удалось, используйте код ниже, чтобы скачать данные к себе в локальное хранилище. В противном случае **пропустите следующую ячейку**."
   ]
  },
  {
   "cell_type": "code",
   "execution_count": 6,
   "id": "5a42c666-ce6f-4827-847d-01c95f50bc62",
   "metadata": {
    "tags": []
   },
   "outputs": [
    {
     "name": "stdout",
     "output_type": "stream",
     "text": [
      "--2024-04-20 10:30:46--  https://hsehack.hb.ru-msk.vkcs.cloud/geo_dataframe.csv\n",
      "Resolving hsehack.hb.ru-msk.vkcs.cloud (hsehack.hb.ru-msk.vkcs.cloud)... 95.163.53.117\n",
      "Connecting to hsehack.hb.ru-msk.vkcs.cloud (hsehack.hb.ru-msk.vkcs.cloud)|95.163.53.117|:443... connected.\n",
      "HTTP request sent, awaiting response... 200 OK\n",
      "Length: 63042 (62K) [text/csv]\n",
      "Saving to: ‘data/geo_dataframe.csv.1’\n",
      "\n",
      "geo_dataframe.csv.1 100%[===================>]  61.56K  --.-KB/s    in 0.002s  \n",
      "\n",
      "2024-04-20 10:30:46 (25.8 MB/s) - ‘data/geo_dataframe.csv.1’ saved [63042/63042]\n",
      "\n",
      "--2024-04-20 10:30:46--  https://hsehack.hb.ru-msk.vkcs.cloud/train_users.csv\n",
      "Resolving hsehack.hb.ru-msk.vkcs.cloud (hsehack.hb.ru-msk.vkcs.cloud)... 95.163.53.117\n",
      "Connecting to hsehack.hb.ru-msk.vkcs.cloud (hsehack.hb.ru-msk.vkcs.cloud)|95.163.53.117|:443... connected.\n",
      "HTTP request sent, awaiting response... 200 OK\n",
      "Length: 66826127 (64M) [text/csv]\n",
      "Saving to: ‘data/train_users.csv.1’\n",
      "\n",
      "train_users.csv.1   100%[===================>]  63.73M  53.3MB/s    in 1.2s    \n",
      "\n",
      "2024-04-20 10:30:48 (53.3 MB/s) - ‘data/train_users.csv.1’ saved [66826127/66826127]\n",
      "\n",
      "Downloading part 0...\n",
      "Downloading part 1...\n",
      "Downloading part 2...\n",
      "Downloading part 3...\n",
      "Downloading part 4...\n",
      "Downloading part 5...\n",
      "Downloading part 6...\n",
      "Downloading part 7...\n",
      "Downloading part 8...\n",
      "Downloading part 9...\n",
      "Downloading part 10...\n",
      "Downloading part 11...\n",
      "Downloading part 12...\n",
      "Downloading part 13...\n",
      "Downloading part 14...\n",
      "Downloading part 15...\n",
      "Downloading part 16...\n",
      "Downloading part 17...\n",
      "Downloading part 18...\n",
      "Downloading part 19...\n",
      "Downloading part 20...\n",
      "Downloading part 21...\n",
      "Downloading part 22...\n",
      "Downloading part 23...\n",
      "Downloading part 24...\n",
      "Downloading part 25...\n",
      "Downloading part 26...\n",
      "Downloading part 27...\n",
      "Downloading part 28...\n",
      "Downloading part 29...\n"
     ]
    }
   ],
   "source": [
    "import subprocess\n",
    "!mkdir -p data\n",
    "!wget https://hsehack.hb.ru-msk.vkcs.cloud/geo_dataframe.csv -P data\n",
    "!wget https://hsehack.hb.ru-msk.vkcs.cloud/train_users.csv -P data\n",
    "!mkdir -p data/requests\n",
    "for i in range(30):\n",
    "    print(f\"Downloading part {i}...\")\n",
    "    subprocess.call([\"wget\", f\"https://hsehack.hb.ru-msk.vkcs.cloud/requests/part_{i}.parquet\", \"-q\", \"-P\", \"data/requests\"])"
   ]
  },
  {
   "cell_type": "markdown",
   "id": "91eb607a-d14d-4dda-9dae-6e44e4bc80bf",
   "metadata": {},
   "source": [
    "## Загружаем данные\n",
    "\n",
    "Используем Pandas для работы с таблицами. `geo_dataframe` содержит данные о геолокации - регионе и стране."
   ]
  },
  {
   "cell_type": "code",
   "execution_count": 3,
   "id": "807c3f20-c421-4a7b-9314-ec9112984948",
   "metadata": {
    "tags": []
   },
   "outputs": [],
   "source": [
    "import pandas as pd\n",
    "from collections import Counter\n",
    "from tqdm import tqdm\n",
    "import numpy as np\n",
    "\n",
    "from sklearn.model_selection import train_test_split"
   ]
  },
  {
   "cell_type": "markdown",
   "id": "72b5ecce-e866-4e01-a2dd-1d26cd7452d9",
   "metadata": {},
   "source": [
    "Таблица `train_users` - это ваша обучающая выборка, содержащая пол и возраст пользователей. Аналогичная таблица для тестового датасета будет вам предоставлена за час до stop coding."
   ]
  },
  {
   "cell_type": "code",
   "execution_count": 2,
   "id": "d985e0cf-3d53-41d7-a004-2d081cb6573d",
   "metadata": {
    "tags": []
   },
   "outputs": [
    {
     "data": {
      "text/html": [
       "<div>\n",
       "<style scoped>\n",
       "    .dataframe tbody tr th:only-of-type {\n",
       "        vertical-align: middle;\n",
       "    }\n",
       "\n",
       "    .dataframe tbody tr th {\n",
       "        vertical-align: top;\n",
       "    }\n",
       "\n",
       "    .dataframe thead th {\n",
       "        text-align: right;\n",
       "    }\n",
       "</style>\n",
       "<table border=\"1\" class=\"dataframe\">\n",
       "  <thead>\n",
       "    <tr style=\"text-align: right;\">\n",
       "      <th></th>\n",
       "      <th>user_id</th>\n",
       "      <th>gender</th>\n",
       "      <th>age</th>\n",
       "    </tr>\n",
       "  </thead>\n",
       "  <tbody>\n",
       "    <tr>\n",
       "      <th>0</th>\n",
       "      <td>2</td>\n",
       "      <td>1</td>\n",
       "      <td>61</td>\n",
       "    </tr>\n",
       "    <tr>\n",
       "      <th>1</th>\n",
       "      <td>3</td>\n",
       "      <td>1</td>\n",
       "      <td>55</td>\n",
       "    </tr>\n",
       "    <tr>\n",
       "      <th>2</th>\n",
       "      <td>6</td>\n",
       "      <td>0</td>\n",
       "      <td>46</td>\n",
       "    </tr>\n",
       "    <tr>\n",
       "      <th>3</th>\n",
       "      <td>14</td>\n",
       "      <td>0</td>\n",
       "      <td>66</td>\n",
       "    </tr>\n",
       "    <tr>\n",
       "      <th>4</th>\n",
       "      <td>17</td>\n",
       "      <td>0</td>\n",
       "      <td>53</td>\n",
       "    </tr>\n",
       "    <tr>\n",
       "      <th>...</th>\n",
       "      <td>...</td>\n",
       "      <td>...</td>\n",
       "      <td>...</td>\n",
       "    </tr>\n",
       "    <tr>\n",
       "      <th>4999995</th>\n",
       "      <td>17588859</td>\n",
       "      <td>1</td>\n",
       "      <td>64</td>\n",
       "    </tr>\n",
       "    <tr>\n",
       "      <th>4999996</th>\n",
       "      <td>17588860</td>\n",
       "      <td>0</td>\n",
       "      <td>69</td>\n",
       "    </tr>\n",
       "    <tr>\n",
       "      <th>4999997</th>\n",
       "      <td>17588861</td>\n",
       "      <td>1</td>\n",
       "      <td>51</td>\n",
       "    </tr>\n",
       "    <tr>\n",
       "      <th>4999998</th>\n",
       "      <td>17588864</td>\n",
       "      <td>0</td>\n",
       "      <td>30</td>\n",
       "    </tr>\n",
       "    <tr>\n",
       "      <th>4999999</th>\n",
       "      <td>17588865</td>\n",
       "      <td>0</td>\n",
       "      <td>38</td>\n",
       "    </tr>\n",
       "  </tbody>\n",
       "</table>\n",
       "<p>5000000 rows × 3 columns</p>\n",
       "</div>"
      ],
      "text/plain": [
       "          user_id  gender  age\n",
       "0               2       1   61\n",
       "1               3       1   55\n",
       "2               6       0   46\n",
       "3              14       0   66\n",
       "4              17       0   53\n",
       "...           ...     ...  ...\n",
       "4999995  17588859       1   64\n",
       "4999996  17588860       0   69\n",
       "4999997  17588861       1   51\n",
       "4999998  17588864       0   30\n",
       "4999999  17588865       0   38\n",
       "\n",
       "[5000000 rows x 3 columns]"
      ]
     },
     "execution_count": 2,
     "metadata": {},
     "output_type": "execute_result"
    }
   ],
   "source": [
    "users = pd.read_csv('mnt/train_users.csv')\n",
    "users"
   ]
  },
  {
   "cell_type": "markdown",
   "id": "45812919-7ca9-4a01-8067-2a3d9ee2c96f",
   "metadata": {
    "tags": []
   },
   "source": [
    "Для примера - вот распределение пользователей по полу:"
   ]
  },
  {
   "cell_type": "markdown",
   "id": "095a63d9-9ed2-40da-9206-26a9a6c71489",
   "metadata": {},
   "source": [
    "Основные данные о посещениях пользователями сайтов содержатся в табличке `requests`, представленной в формате parquet. Вы можете загрузить только одну часть таблички, или же всю таблицу, если она поместиться в памяти:"
   ]
  },
  {
   "cell_type": "code",
   "execution_count": 4,
   "id": "3955449c-d47f-4a8e-bf69-9904dfa9437f",
   "metadata": {
    "tags": []
   },
   "outputs": [],
   "source": [
    "df = pd.read_parquet(\"featured/part_0.parquet\")\n",
    "df = df.drop([\"timestamp\", \"user_agent\", \"referer\"], axis=1)"
   ]
  },
  {
   "cell_type": "code",
   "execution_count": 52,
   "id": "aeb7a1f1-dcee-4383-bcab-55ed31a99274",
   "metadata": {
    "tags": []
   },
   "outputs": [
    {
     "data": {
      "text/html": [
       "<div>\n",
       "<style scoped>\n",
       "    .dataframe tbody tr th:only-of-type {\n",
       "        vertical-align: middle;\n",
       "    }\n",
       "\n",
       "    .dataframe tbody tr th {\n",
       "        vertical-align: top;\n",
       "    }\n",
       "\n",
       "    .dataframe thead th {\n",
       "        text-align: right;\n",
       "    }\n",
       "</style>\n",
       "<table border=\"1\" class=\"dataframe\">\n",
       "  <thead>\n",
       "    <tr style=\"text-align: right;\">\n",
       "      <th></th>\n",
       "      <th>user_id</th>\n",
       "      <th>gender</th>\n",
       "      <th>age</th>\n",
       "      <th>geo_id</th>\n",
       "      <th>region_id</th>\n",
       "      <th>country_id</th>\n",
       "      <th>year</th>\n",
       "      <th>month</th>\n",
       "      <th>day</th>\n",
       "      <th>hour</th>\n",
       "      <th>minute</th>\n",
       "      <th>second</th>\n",
       "      <th>weekday</th>\n",
       "      <th>browser_family</th>\n",
       "      <th>os_family</th>\n",
       "      <th>brand</th>\n",
       "      <th>device_type</th>\n",
       "      <th>domain</th>\n",
       "    </tr>\n",
       "  </thead>\n",
       "  <tbody>\n",
       "    <tr>\n",
       "      <th>0</th>\n",
       "      <td>2</td>\n",
       "      <td>1</td>\n",
       "      <td>61</td>\n",
       "      <td>708</td>\n",
       "      <td>7440</td>\n",
       "      <td>40</td>\n",
       "      <td>2024</td>\n",
       "      <td>4</td>\n",
       "      <td>2</td>\n",
       "      <td>0</td>\n",
       "      <td>21</td>\n",
       "      <td>37</td>\n",
       "      <td>1</td>\n",
       "      <td>Chrome</td>\n",
       "      <td>Android</td>\n",
       "      <td>Huawei</td>\n",
       "      <td>mobile</td>\n",
       "      <td>domain_1654</td>\n",
       "    </tr>\n",
       "    <tr>\n",
       "      <th>1</th>\n",
       "      <td>251</td>\n",
       "      <td>0</td>\n",
       "      <td>26</td>\n",
       "      <td>708</td>\n",
       "      <td>7440</td>\n",
       "      <td>40</td>\n",
       "      <td>2024</td>\n",
       "      <td>4</td>\n",
       "      <td>1</td>\n",
       "      <td>6</td>\n",
       "      <td>4</td>\n",
       "      <td>27</td>\n",
       "      <td>0</td>\n",
       "      <td>Chrome Mobile</td>\n",
       "      <td>Android</td>\n",
       "      <td>Generic_Android</td>\n",
       "      <td>mobile</td>\n",
       "      <td>domain_381</td>\n",
       "    </tr>\n",
       "    <tr>\n",
       "      <th>2</th>\n",
       "      <td>273</td>\n",
       "      <td>0</td>\n",
       "      <td>33</td>\n",
       "      <td>708</td>\n",
       "      <td>7440</td>\n",
       "      <td>40</td>\n",
       "      <td>2024</td>\n",
       "      <td>4</td>\n",
       "      <td>1</td>\n",
       "      <td>14</td>\n",
       "      <td>23</td>\n",
       "      <td>12</td>\n",
       "      <td>0</td>\n",
       "      <td>Chrome Mobile</td>\n",
       "      <td>Android</td>\n",
       "      <td>Generic_Android</td>\n",
       "      <td>mobile</td>\n",
       "      <td>domain_609</td>\n",
       "    </tr>\n",
       "    <tr>\n",
       "      <th>3</th>\n",
       "      <td>273</td>\n",
       "      <td>0</td>\n",
       "      <td>33</td>\n",
       "      <td>708</td>\n",
       "      <td>7440</td>\n",
       "      <td>40</td>\n",
       "      <td>2024</td>\n",
       "      <td>4</td>\n",
       "      <td>1</td>\n",
       "      <td>1</td>\n",
       "      <td>56</td>\n",
       "      <td>40</td>\n",
       "      <td>0</td>\n",
       "      <td>Chrome Mobile</td>\n",
       "      <td>Android</td>\n",
       "      <td>Generic_Android</td>\n",
       "      <td>mobile</td>\n",
       "      <td>www.domain_325</td>\n",
       "    </tr>\n",
       "    <tr>\n",
       "      <th>4</th>\n",
       "      <td>273</td>\n",
       "      <td>0</td>\n",
       "      <td>33</td>\n",
       "      <td>708</td>\n",
       "      <td>7440</td>\n",
       "      <td>40</td>\n",
       "      <td>2024</td>\n",
       "      <td>4</td>\n",
       "      <td>1</td>\n",
       "      <td>1</td>\n",
       "      <td>55</td>\n",
       "      <td>19</td>\n",
       "      <td>0</td>\n",
       "      <td>Chrome Mobile</td>\n",
       "      <td>Android</td>\n",
       "      <td>Generic_Android</td>\n",
       "      <td>mobile</td>\n",
       "      <td>www.domain_325</td>\n",
       "    </tr>\n",
       "  </tbody>\n",
       "</table>\n",
       "</div>"
      ],
      "text/plain": [
       "   user_id  gender  age  geo_id region_id country_id  year  month  day  hour  \\\n",
       "0        2       1   61     708      7440         40  2024      4    2     0   \n",
       "1      251       0   26     708      7440         40  2024      4    1     6   \n",
       "2      273       0   33     708      7440         40  2024      4    1    14   \n",
       "3      273       0   33     708      7440         40  2024      4    1     1   \n",
       "4      273       0   33     708      7440         40  2024      4    1     1   \n",
       "\n",
       "   minute  second  weekday browser_family os_family            brand  \\\n",
       "0      21      37        1         Chrome   Android           Huawei   \n",
       "1       4      27        0  Chrome Mobile   Android  Generic_Android   \n",
       "2      23      12        0  Chrome Mobile   Android  Generic_Android   \n",
       "3      56      40        0  Chrome Mobile   Android  Generic_Android   \n",
       "4      55      19        0  Chrome Mobile   Android  Generic_Android   \n",
       "\n",
       "  device_type          domain  \n",
       "0      mobile     domain_1654  \n",
       "1      mobile      domain_381  \n",
       "2      mobile      domain_609  \n",
       "3      mobile  www.domain_325  \n",
       "4      mobile  www.domain_325  "
      ]
     },
     "execution_count": 52,
     "metadata": {},
     "output_type": "execute_result"
    }
   ],
   "source": [
    "df.head()"
   ]
  },
  {
   "cell_type": "code",
   "execution_count": 3,
   "id": "5f6bd195-0314-4f9a-a819-7b83cf2b07f4",
   "metadata": {
    "tags": []
   },
   "outputs": [],
   "source": [
    "user_features = {\n",
    "    \"domain\": 5,\n",
    "    \"device_type\": 3,\n",
    "    \"brand\": 2,\n",
    "    \"hour\": 3,\n",
    "    \"weekday\": 2\n",
    "}"
   ]
  },
  {
   "cell_type": "code",
   "execution_count": 6,
   "id": "298165c7-48e5-40f8-a694-525778acd481",
   "metadata": {
    "tags": []
   },
   "outputs": [],
   "source": [
    "temp = df[[\"user_id\", \"gender\", \"age\", \"domain\"]]"
   ]
  },
  {
   "cell_type": "code",
   "execution_count": 7,
   "id": "ed1baf80-e9f8-4b3e-a60e-978c3bc3ce4d",
   "metadata": {
    "tags": []
   },
   "outputs": [],
   "source": [
    "user_featured = df[[\"user_id\", \"gender\", \"age\"]]"
   ]
  },
  {
   "cell_type": "code",
   "execution_count": 6,
   "id": "f24c22f2-34d9-405a-b90d-07b2e09bd212",
   "metadata": {
    "tags": []
   },
   "outputs": [
    {
     "name": "stderr",
     "output_type": "stream",
     "text": [
      "100%|██████████| 5/5 [04:36<00:00, 55.28s/it]\n"
     ]
    }
   ],
   "source": [
    "# grouped = temp.groupby('user_id')[\"domain\"].apply(list).to_dict()\n",
    "# for el in grouped:\n",
    "#     counts = Counter(grouped[el])\n",
    "#     grouped[el] = sorted(counts, key=lambda x: counts[x], reverse=True)[:5]\n",
    "        \n",
    "#     if len(grouped[el]) < 5:\n",
    "#         grouped[el] += [np.nan] * (5 - len(grouped[el]))\n",
    "\n",
    "\n",
    "for user_feature in tqdm(user_features):\n",
    "    grouped = df.groupby('user_id')[user_feature].apply(list).to_dict()\n",
    "    for el in grouped:\n",
    "        counts = Counter(grouped[el])\n",
    "        grouped_el = sorted(counts, key=lambda x: counts[x], reverse=True)[:user_features[user_feature]]\n",
    "        if len(grouped[el]) < user_features[user_feature]:\n",
    "            grouped_el += [np.nan] * (user_features[user_feature] - len(grouped[el]))\n",
    "        grouped[el] = grouped_el\n",
    "    user_featured = user_featured.merge(pd.DataFrame.from_dict(grouped, orient='index', columns=[f'{user_feature}_top{i}' for i in range(1, user_features[user_feature]+1)]), left_on='user_id', right_index=True)"
   ]
  },
  {
   "cell_type": "code",
   "execution_count": 7,
   "id": "ed279ce0-e1fe-4e79-a712-1b20bcc55306",
   "metadata": {
    "tags": []
   },
   "outputs": [],
   "source": [
    "temp1 = pd.DataFrame.from_dict(grouped, orient='index', columns=['t1', 't2', 't3', 't4', 't5'])"
   ]
  },
  {
   "cell_type": "code",
   "execution_count": 8,
   "id": "8145f1ac-8a0e-4426-ade1-a00ee69bc1cc",
   "metadata": {
    "tags": []
   },
   "outputs": [],
   "source": [
    "ddd = pd.merge(temp, temp1, left_on=\"user_id\", right_index=True)"
   ]
  },
  {
   "cell_type": "code",
   "execution_count": 16,
   "id": "3ea63dff-716d-4ad2-8e02-603a2b516338",
   "metadata": {
    "tags": []
   },
   "outputs": [
    {
     "name": "stderr",
     "output_type": "stream",
     "text": [
      "100%|██████████| 2640892/2640892 [00:07<00:00, 365300.77it/s]\n"
     ]
    }
   ],
   "source": [
    "# grouped_device_types = temp.groupby('user_id')['device_type'].apply(list).to_dict()\n",
    "# for el in tqdm(list(grouped_device_types.keys())):\n",
    "#     counts = Counter(grouped_device_types[el])\n",
    "#     grouped_device_types[el] = sorted(counts, key=lambda x: counts[x], reverse=True)[:3]\n",
    "#     if len(grouped_device_types[el]) < 3:\n",
    "#         grouped_device_types[el] += [np.nan] * (3 - len(grouped_device_types[el]))"
   ]
  },
  {
   "cell_type": "code",
   "execution_count": 15,
   "id": "88838e58-435e-4f58-896a-8d65b4d8dfe7",
   "metadata": {
    "tags": []
   },
   "outputs": [
    {
     "name": "stdout",
     "output_type": "stream",
     "text": [
      "2640892 2640892\n"
     ]
    }
   ],
   "source": [
    "# print(len(temp1), len(grouped_device_types))"
   ]
  },
  {
   "cell_type": "code",
   "execution_count": 17,
   "id": "8b39b150-6573-4cef-8daa-7ddeca32d825",
   "metadata": {
    "tags": []
   },
   "outputs": [],
   "source": [
    "# temp_devices = pd.DataFrame.from_dict(grouped_device_types, orient='index', columns=['device_top1', 'device_top2', 'device_top3'])\n",
    "# ddd = pd.merge(ddd, temp_devices, left_on='user_id', right_index=True)"
   ]
  },
  {
   "cell_type": "code",
   "execution_count": 5,
   "id": "9f80ab42-f41c-40fe-9de2-dec5165ef0bb",
   "metadata": {
    "tags": []
   },
   "outputs": [],
   "source": [
    "user_featured = pd.read_parquet(\"for_training.pqt\")"
   ]
  },
  {
   "cell_type": "code",
   "execution_count": 6,
   "id": "c79d48ee-404f-45a6-b441-5d236eaadaf2",
   "metadata": {
    "tags": []
   },
   "outputs": [],
   "source": [
    "user_featured = user_featured.drop([\"user_id\"], axis=1)"
   ]
  },
  {
   "cell_type": "code",
   "execution_count": 10,
   "id": "b5a84ccd-7982-4a03-9317-9e1f56f0244d",
   "metadata": {
    "tags": []
   },
   "outputs": [
    {
     "data": {
      "text/html": [
       "<div>\n",
       "<style scoped>\n",
       "    .dataframe tbody tr th:only-of-type {\n",
       "        vertical-align: middle;\n",
       "    }\n",
       "\n",
       "    .dataframe tbody tr th {\n",
       "        vertical-align: top;\n",
       "    }\n",
       "\n",
       "    .dataframe thead th {\n",
       "        text-align: right;\n",
       "    }\n",
       "</style>\n",
       "<table border=\"1\" class=\"dataframe\">\n",
       "  <thead>\n",
       "    <tr style=\"text-align: right;\">\n",
       "      <th></th>\n",
       "      <th>gender</th>\n",
       "      <th>age</th>\n",
       "      <th>domain_top1</th>\n",
       "      <th>domain_top2</th>\n",
       "      <th>domain_top3</th>\n",
       "      <th>domain_top4</th>\n",
       "      <th>domain_top5</th>\n",
       "      <th>device_type_top1</th>\n",
       "      <th>device_type_top2</th>\n",
       "      <th>device_type_top3</th>\n",
       "      <th>brand_top1</th>\n",
       "      <th>brand_top2</th>\n",
       "      <th>hour_top1</th>\n",
       "      <th>hour_top2</th>\n",
       "      <th>hour_top3</th>\n",
       "      <th>weekday_top1</th>\n",
       "      <th>weekday_top2</th>\n",
       "    </tr>\n",
       "  </thead>\n",
       "  <tbody>\n",
       "    <tr>\n",
       "      <th>0</th>\n",
       "      <td>1</td>\n",
       "      <td>61</td>\n",
       "      <td>domain_1654</td>\n",
       "      <td>None</td>\n",
       "      <td>None</td>\n",
       "      <td>None</td>\n",
       "      <td>None</td>\n",
       "      <td>mobile</td>\n",
       "      <td>None</td>\n",
       "      <td>None</td>\n",
       "      <td>Huawei</td>\n",
       "      <td>None</td>\n",
       "      <td>0</td>\n",
       "      <td>NaN</td>\n",
       "      <td>NaN</td>\n",
       "      <td>1</td>\n",
       "      <td>NaN</td>\n",
       "    </tr>\n",
       "    <tr>\n",
       "      <th>1</th>\n",
       "      <td>0</td>\n",
       "      <td>26</td>\n",
       "      <td>domain_381</td>\n",
       "      <td>None</td>\n",
       "      <td>None</td>\n",
       "      <td>None</td>\n",
       "      <td>None</td>\n",
       "      <td>mobile</td>\n",
       "      <td>None</td>\n",
       "      <td>None</td>\n",
       "      <td>Generic_Android</td>\n",
       "      <td>None</td>\n",
       "      <td>6</td>\n",
       "      <td>NaN</td>\n",
       "      <td>NaN</td>\n",
       "      <td>0</td>\n",
       "      <td>NaN</td>\n",
       "    </tr>\n",
       "    <tr>\n",
       "      <th>2</th>\n",
       "      <td>0</td>\n",
       "      <td>33</td>\n",
       "      <td>www.domain_325</td>\n",
       "      <td>domain_609</td>\n",
       "      <td>None</td>\n",
       "      <td>None</td>\n",
       "      <td>None</td>\n",
       "      <td>mobile</td>\n",
       "      <td>None</td>\n",
       "      <td>None</td>\n",
       "      <td>Generic_Android</td>\n",
       "      <td>None</td>\n",
       "      <td>1</td>\n",
       "      <td>14.0</td>\n",
       "      <td>NaN</td>\n",
       "      <td>0</td>\n",
       "      <td>NaN</td>\n",
       "    </tr>\n",
       "    <tr>\n",
       "      <th>3</th>\n",
       "      <td>0</td>\n",
       "      <td>33</td>\n",
       "      <td>www.domain_325</td>\n",
       "      <td>domain_609</td>\n",
       "      <td>None</td>\n",
       "      <td>None</td>\n",
       "      <td>None</td>\n",
       "      <td>mobile</td>\n",
       "      <td>None</td>\n",
       "      <td>None</td>\n",
       "      <td>Generic_Android</td>\n",
       "      <td>None</td>\n",
       "      <td>1</td>\n",
       "      <td>14.0</td>\n",
       "      <td>NaN</td>\n",
       "      <td>0</td>\n",
       "      <td>NaN</td>\n",
       "    </tr>\n",
       "    <tr>\n",
       "      <th>4</th>\n",
       "      <td>0</td>\n",
       "      <td>33</td>\n",
       "      <td>www.domain_325</td>\n",
       "      <td>domain_609</td>\n",
       "      <td>None</td>\n",
       "      <td>None</td>\n",
       "      <td>None</td>\n",
       "      <td>mobile</td>\n",
       "      <td>None</td>\n",
       "      <td>None</td>\n",
       "      <td>Generic_Android</td>\n",
       "      <td>None</td>\n",
       "      <td>1</td>\n",
       "      <td>14.0</td>\n",
       "      <td>NaN</td>\n",
       "      <td>0</td>\n",
       "      <td>NaN</td>\n",
       "    </tr>\n",
       "    <tr>\n",
       "      <th>...</th>\n",
       "      <td>...</td>\n",
       "      <td>...</td>\n",
       "      <td>...</td>\n",
       "      <td>...</td>\n",
       "      <td>...</td>\n",
       "      <td>...</td>\n",
       "      <td>...</td>\n",
       "      <td>...</td>\n",
       "      <td>...</td>\n",
       "      <td>...</td>\n",
       "      <td>...</td>\n",
       "      <td>...</td>\n",
       "      <td>...</td>\n",
       "      <td>...</td>\n",
       "      <td>...</td>\n",
       "      <td>...</td>\n",
       "      <td>...</td>\n",
       "    </tr>\n",
       "    <tr>\n",
       "      <th>12157406</th>\n",
       "      <td>0</td>\n",
       "      <td>75</td>\n",
       "      <td>domain_2042</td>\n",
       "      <td>None</td>\n",
       "      <td>None</td>\n",
       "      <td>None</td>\n",
       "      <td>None</td>\n",
       "      <td>PC</td>\n",
       "      <td>None</td>\n",
       "      <td>None</td>\n",
       "      <td>None</td>\n",
       "      <td>None</td>\n",
       "      <td>14</td>\n",
       "      <td>NaN</td>\n",
       "      <td>NaN</td>\n",
       "      <td>0</td>\n",
       "      <td>NaN</td>\n",
       "    </tr>\n",
       "    <tr>\n",
       "      <th>12157407</th>\n",
       "      <td>0</td>\n",
       "      <td>47</td>\n",
       "      <td>domain_2238</td>\n",
       "      <td>None</td>\n",
       "      <td>None</td>\n",
       "      <td>None</td>\n",
       "      <td>None</td>\n",
       "      <td>mobile</td>\n",
       "      <td>None</td>\n",
       "      <td>None</td>\n",
       "      <td>Generic_Android</td>\n",
       "      <td>None</td>\n",
       "      <td>11</td>\n",
       "      <td>NaN</td>\n",
       "      <td>NaN</td>\n",
       "      <td>0</td>\n",
       "      <td>NaN</td>\n",
       "    </tr>\n",
       "    <tr>\n",
       "      <th>12157408</th>\n",
       "      <td>0</td>\n",
       "      <td>68</td>\n",
       "      <td>domain_2194</td>\n",
       "      <td>None</td>\n",
       "      <td>None</td>\n",
       "      <td>None</td>\n",
       "      <td>None</td>\n",
       "      <td>PC</td>\n",
       "      <td>None</td>\n",
       "      <td>None</td>\n",
       "      <td>None</td>\n",
       "      <td>None</td>\n",
       "      <td>18</td>\n",
       "      <td>NaN</td>\n",
       "      <td>NaN</td>\n",
       "      <td>2</td>\n",
       "      <td>NaN</td>\n",
       "    </tr>\n",
       "    <tr>\n",
       "      <th>12157409</th>\n",
       "      <td>1</td>\n",
       "      <td>37</td>\n",
       "      <td>domain_1498</td>\n",
       "      <td>None</td>\n",
       "      <td>None</td>\n",
       "      <td>None</td>\n",
       "      <td>None</td>\n",
       "      <td>mobile</td>\n",
       "      <td>None</td>\n",
       "      <td>None</td>\n",
       "      <td>Generic_Android</td>\n",
       "      <td>None</td>\n",
       "      <td>22</td>\n",
       "      <td>NaN</td>\n",
       "      <td>NaN</td>\n",
       "      <td>0</td>\n",
       "      <td>NaN</td>\n",
       "    </tr>\n",
       "    <tr>\n",
       "      <th>12157410</th>\n",
       "      <td>0</td>\n",
       "      <td>52</td>\n",
       "      <td>domain_2194</td>\n",
       "      <td>None</td>\n",
       "      <td>None</td>\n",
       "      <td>None</td>\n",
       "      <td>None</td>\n",
       "      <td>PC</td>\n",
       "      <td>None</td>\n",
       "      <td>None</td>\n",
       "      <td>None</td>\n",
       "      <td>None</td>\n",
       "      <td>20</td>\n",
       "      <td>NaN</td>\n",
       "      <td>NaN</td>\n",
       "      <td>1</td>\n",
       "      <td>NaN</td>\n",
       "    </tr>\n",
       "  </tbody>\n",
       "</table>\n",
       "<p>12157411 rows × 17 columns</p>\n",
       "</div>"
      ],
      "text/plain": [
       "          gender  age     domain_top1 domain_top2 domain_top3 domain_top4  \\\n",
       "0              1   61     domain_1654        None        None        None   \n",
       "1              0   26      domain_381        None        None        None   \n",
       "2              0   33  www.domain_325  domain_609        None        None   \n",
       "3              0   33  www.domain_325  domain_609        None        None   \n",
       "4              0   33  www.domain_325  domain_609        None        None   \n",
       "...          ...  ...             ...         ...         ...         ...   \n",
       "12157406       0   75     domain_2042        None        None        None   \n",
       "12157407       0   47     domain_2238        None        None        None   \n",
       "12157408       0   68     domain_2194        None        None        None   \n",
       "12157409       1   37     domain_1498        None        None        None   \n",
       "12157410       0   52     domain_2194        None        None        None   \n",
       "\n",
       "         domain_top5 device_type_top1 device_type_top2 device_type_top3  \\\n",
       "0               None           mobile             None             None   \n",
       "1               None           mobile             None             None   \n",
       "2               None           mobile             None             None   \n",
       "3               None           mobile             None             None   \n",
       "4               None           mobile             None             None   \n",
       "...              ...              ...              ...              ...   \n",
       "12157406        None               PC             None             None   \n",
       "12157407        None           mobile             None             None   \n",
       "12157408        None               PC             None             None   \n",
       "12157409        None           mobile             None             None   \n",
       "12157410        None               PC             None             None   \n",
       "\n",
       "               brand_top1 brand_top2  hour_top1  hour_top2  hour_top3  \\\n",
       "0                  Huawei       None          0        NaN        NaN   \n",
       "1         Generic_Android       None          6        NaN        NaN   \n",
       "2         Generic_Android       None          1       14.0        NaN   \n",
       "3         Generic_Android       None          1       14.0        NaN   \n",
       "4         Generic_Android       None          1       14.0        NaN   \n",
       "...                   ...        ...        ...        ...        ...   \n",
       "12157406             None       None         14        NaN        NaN   \n",
       "12157407  Generic_Android       None         11        NaN        NaN   \n",
       "12157408             None       None         18        NaN        NaN   \n",
       "12157409  Generic_Android       None         22        NaN        NaN   \n",
       "12157410             None       None         20        NaN        NaN   \n",
       "\n",
       "          weekday_top1  weekday_top2  \n",
       "0                    1           NaN  \n",
       "1                    0           NaN  \n",
       "2                    0           NaN  \n",
       "3                    0           NaN  \n",
       "4                    0           NaN  \n",
       "...                ...           ...  \n",
       "12157406             0           NaN  \n",
       "12157407             0           NaN  \n",
       "12157408             2           NaN  \n",
       "12157409             0           NaN  \n",
       "12157410             1           NaN  \n",
       "\n",
       "[12157411 rows x 17 columns]"
      ]
     },
     "execution_count": 10,
     "metadata": {},
     "output_type": "execute_result"
    }
   ],
   "source": [
    "user_featured"
   ]
  },
  {
   "cell_type": "markdown",
   "id": "9e5882f5-ea2b-489d-8e71-a68e15038ae7",
   "metadata": {},
   "source": [
    "## Дерзайте!\n",
    "\n",
    "Вам необходимо построить предсказательную модель для прогнозирования пола и возраста пользователей по их посещениям. Таблица с тестовыми пользователями будет предоставлена вам за час до stop coding.\n",
    "\n",
    "ВАЖНО:\n",
    "* Таблицу с тестовыми данными нельзя использовать для обучения модели. Если жюри увидит, что вы использовали табличку с тестовыми данными - точность модели будет оцениваться в 0 баллов.\n",
    "* В ходе выступления необходимо продемонстрировать точность модели на тестовых данных."
   ]
  },
  {
   "cell_type": "markdown",
   "id": "58ccbfed-e5aa-4d76-96ba-4a8b688d9781",
   "metadata": {},
   "source": [
    "### Установка библиотек"
   ]
  },
  {
   "cell_type": "code",
   "execution_count": null,
   "id": "406b5898-df6a-492f-af62-9323723a9672",
   "metadata": {
    "tags": []
   },
   "outputs": [
    {
     "name": "stdout",
     "output_type": "stream",
     "text": [
      "0:\tlearn: 0.6570226\ttest: 0.6563849\tbest: 0.6563849 (0)\ttotal: 3.72s\tremaining: 12m 20s\n"
     ]
    }
   ],
   "source": [
    "from catboost import CatBoostClassifier\n",
    "\n",
    "cat_cols = [\"domain_top1\", \"domain_top2\", \"domain_top3\", \"domain_top4\", \"domain_top5\", \"device_type_top1\", \"device_type_top2\", \"device_type_top3\", \"brand_top1\", \"brand_top2\"]\n",
    "\n",
    "X_train, X_test, y_train, y_test = train_test_split(user_featured.drop([\"gender\", \"age\"], axis=1), user_featured[[\"gender\", \"age\"]], train_size=0.8, stratify=user_featured[\"gender\"])\n",
    "\n",
    "for c in X_train.columns:\n",
    "    X_train[c] = X_train[c].astype(\"str\")\n",
    "    X_test[c]  = X_test[c].astype(\"str\")\n",
    "\n",
    "cat = CatBoostClassifier(iterations=200, learning_rate=0.3, depth=7, cat_features=cat_cols)\n",
    "\n",
    "cat.fit(X_train, y_train[\"gender\"], eval_set=(X_test, y_test[\"gender\"]), verbose=10)\n",
    "print(i)"
   ]
  },
  {
   "cell_type": "code",
   "execution_count": 18,
   "id": "83cf2118-bb4a-4b5c-a4e7-e73b761667d3",
   "metadata": {
    "tags": []
   },
   "outputs": [
    {
     "data": {
      "text/html": [
       "<div>\n",
       "<style scoped>\n",
       "    .dataframe tbody tr th:only-of-type {\n",
       "        vertical-align: middle;\n",
       "    }\n",
       "\n",
       "    .dataframe tbody tr th {\n",
       "        vertical-align: top;\n",
       "    }\n",
       "\n",
       "    .dataframe thead th {\n",
       "        text-align: right;\n",
       "    }\n",
       "</style>\n",
       "<table border=\"1\" class=\"dataframe\">\n",
       "  <thead>\n",
       "    <tr style=\"text-align: right;\">\n",
       "      <th></th>\n",
       "      <th>Feature Id</th>\n",
       "      <th>Importances</th>\n",
       "    </tr>\n",
       "  </thead>\n",
       "  <tbody>\n",
       "    <tr>\n",
       "      <th>0</th>\n",
       "      <td>t1</td>\n",
       "      <td>29.940011</td>\n",
       "    </tr>\n",
       "    <tr>\n",
       "      <th>1</th>\n",
       "      <td>t4</td>\n",
       "      <td>20.995110</td>\n",
       "    </tr>\n",
       "    <tr>\n",
       "      <th>2</th>\n",
       "      <td>t3</td>\n",
       "      <td>19.850417</td>\n",
       "    </tr>\n",
       "    <tr>\n",
       "      <th>3</th>\n",
       "      <td>t2</td>\n",
       "      <td>18.341735</td>\n",
       "    </tr>\n",
       "    <tr>\n",
       "      <th>4</th>\n",
       "      <td>t5</td>\n",
       "      <td>10.872727</td>\n",
       "    </tr>\n",
       "  </tbody>\n",
       "</table>\n",
       "</div>"
      ],
      "text/plain": [
       "  Feature Id  Importances\n",
       "0         t1    29.940011\n",
       "1         t4    20.995110\n",
       "2         t3    19.850417\n",
       "3         t2    18.341735\n",
       "4         t5    10.872727"
      ]
     },
     "execution_count": 18,
     "metadata": {},
     "output_type": "execute_result"
    }
   ],
   "source": [
    "cat.get_feature_importance(prettified=True)"
   ]
  },
  {
   "cell_type": "code",
   "execution_count": 19,
   "id": "e6be56d9-ee59-40b5-a654-afe9c63cf9f4",
   "metadata": {
    "tags": []
   },
   "outputs": [
    {
     "name": "stdout",
     "output_type": "stream",
     "text": [
      "              precision    recall  f1-score   support\n",
      "\n",
      "           0       0.75      0.54      0.63   1122361\n",
      "           1       0.68      0.84      0.75   1309122\n",
      "\n",
      "    accuracy                           0.70   2431483\n",
      "   macro avg       0.71      0.69      0.69   2431483\n",
      "weighted avg       0.71      0.70      0.69   2431483\n",
      "\n"
     ]
    }
   ],
   "source": [
    "from sklearn.metrics import classification_report\n",
    "\n",
    "print(classification_report(y_test[\"gender\"], cat.predict(X_test)))"
   ]
  },
  {
   "cell_type": "code",
   "execution_count": null,
   "id": "a8ee48cd-4b96-4175-ab4a-d580dc2464f4",
   "metadata": {
    "tags": []
   },
   "outputs": [],
   "source": [
    "from catboost import CatBoostRegressor\n",
    "\n",
    "cat_cols = [\"domain_top1\", \"domain_top2\", \"domain_top3\", \"domain_top4\", \"domain_top5\", \"device_type_top1\", \"device_type_top2\", \"device_type_top3\", \"brand_top1\", \"brand_top2\"]\n",
    "\n",
    "X_train, X_test, y_train, y_test = train_test_split(user_featured.drop([\"gender\", \"age\"], axis=1), user_featured[[\"gender\", \"age\"]], train_size=0.8, stratify=user_featured[\"gender\"])\n",
    "\n",
    "for c in X_train.columns:\n",
    "    X_train[c] = X_train[c].astype(\"str\")\n",
    "    X_test[c]  = X_test[c].astype(\"str\")\n",
    "\n",
    "cat = CatBoostRegressor(iterations=200, learning_rate=0.3, depth=7, cat_features=cat_cols)\n",
    "\n",
    "cat.fit(X_train, y_train[\"age\"], eval_set=(X_test, y_test[\"age\"]), verbose=10)\n",
    "print(i)"
   ]
  },
  {
   "cell_type": "code",
   "execution_count": 30,
   "id": "b3c638b2-7c97-4a4f-97d5-20f9647d0e28",
   "metadata": {
    "tags": []
   },
   "outputs": [
    {
     "ename": "ValueError",
     "evalue": "pandas dtypes must be int, float or bool.\nFields with bad pandas dtypes: domain_top1: object, domain_top2: object, domain_top3: object, domain_top4: object, domain_top5: object, device_type_top1: object, device_type_top2: object, device_type_top3: object, brand_top1: object, brand_top2: object",
     "output_type": "error",
     "traceback": [
      "\u001b[0;31m---------------------------------------------------------------------------\u001b[0m",
      "\u001b[0;31mValueError\u001b[0m                                Traceback (most recent call last)",
      "Cell \u001b[0;32mIn[30], line 20\u001b[0m\n\u001b[1;32m     11\u001b[0m params \u001b[38;5;241m=\u001b[39m {\n\u001b[1;32m     12\u001b[0m     \u001b[38;5;124m'\u001b[39m\u001b[38;5;124mobjective\u001b[39m\u001b[38;5;124m'\u001b[39m: \u001b[38;5;124m'\u001b[39m\u001b[38;5;124mbinary\u001b[39m\u001b[38;5;124m'\u001b[39m,\n\u001b[1;32m     13\u001b[0m     \u001b[38;5;124m'\u001b[39m\u001b[38;5;124mmetric\u001b[39m\u001b[38;5;124m'\u001b[39m: \u001b[38;5;124m'\u001b[39m\u001b[38;5;124mbinary_logloss\u001b[39m\u001b[38;5;124m'\u001b[39m,\n\u001b[0;32m   (...)\u001b[0m\n\u001b[1;32m     16\u001b[0m     \u001b[38;5;124m'\u001b[39m\u001b[38;5;124mlearning_rate\u001b[39m\u001b[38;5;124m'\u001b[39m: \u001b[38;5;241m0.3\u001b[39m,\n\u001b[1;32m     17\u001b[0m }\n\u001b[1;32m     19\u001b[0m num_round \u001b[38;5;241m=\u001b[39m \u001b[38;5;241m200\u001b[39m\n\u001b[0;32m---> 20\u001b[0m bst \u001b[38;5;241m=\u001b[39m \u001b[43mlgb\u001b[49m\u001b[38;5;241;43m.\u001b[39;49m\u001b[43mtrain\u001b[49m\u001b[43m(\u001b[49m\u001b[43mparams\u001b[49m\u001b[43m,\u001b[49m\u001b[43m \u001b[49m\u001b[43mtrain_data\u001b[49m\u001b[43m,\u001b[49m\u001b[43m \u001b[49m\u001b[43mnum_round\u001b[49m\u001b[43m,\u001b[49m\n\u001b[1;32m     21\u001b[0m \u001b[43m                \u001b[49m\u001b[43mvalid_sets\u001b[49m\u001b[38;5;241;43m=\u001b[39;49m\u001b[43m[\u001b[49m\u001b[43mtrain_data\u001b[49m\u001b[43m,\u001b[49m\u001b[43m \u001b[49m\u001b[43mvalid_data\u001b[49m\u001b[43m]\u001b[49m\u001b[43m)\u001b[49m\n",
      "File \u001b[0;32m~/.local/lib/python3.9/site-packages/lightgbm/engine.py:255\u001b[0m, in \u001b[0;36mtrain\u001b[0;34m(params, train_set, num_boost_round, valid_sets, valid_names, feval, init_model, feature_name, categorical_feature, keep_training_booster, callbacks)\u001b[0m\n\u001b[1;32m    253\u001b[0m \u001b[38;5;66;03m# construct booster\u001b[39;00m\n\u001b[1;32m    254\u001b[0m \u001b[38;5;28;01mtry\u001b[39;00m:\n\u001b[0;32m--> 255\u001b[0m     booster \u001b[38;5;241m=\u001b[39m \u001b[43mBooster\u001b[49m\u001b[43m(\u001b[49m\u001b[43mparams\u001b[49m\u001b[38;5;241;43m=\u001b[39;49m\u001b[43mparams\u001b[49m\u001b[43m,\u001b[49m\u001b[43m \u001b[49m\u001b[43mtrain_set\u001b[49m\u001b[38;5;241;43m=\u001b[39;49m\u001b[43mtrain_set\u001b[49m\u001b[43m)\u001b[49m\n\u001b[1;32m    256\u001b[0m     \u001b[38;5;28;01mif\u001b[39;00m is_valid_contain_train:\n\u001b[1;32m    257\u001b[0m         booster\u001b[38;5;241m.\u001b[39mset_train_data_name(train_data_name)\n",
      "File \u001b[0;32m~/.local/lib/python3.9/site-packages/lightgbm/basic.py:3433\u001b[0m, in \u001b[0;36mBooster.__init__\u001b[0;34m(self, params, train_set, model_file, model_str)\u001b[0m\n\u001b[1;32m   3426\u001b[0m     \u001b[38;5;28mself\u001b[39m\u001b[38;5;241m.\u001b[39mset_network(\n\u001b[1;32m   3427\u001b[0m         machines\u001b[38;5;241m=\u001b[39mmachines,\n\u001b[1;32m   3428\u001b[0m         local_listen_port\u001b[38;5;241m=\u001b[39mparams[\u001b[38;5;124m\"\u001b[39m\u001b[38;5;124mlocal_listen_port\u001b[39m\u001b[38;5;124m\"\u001b[39m],\n\u001b[1;32m   3429\u001b[0m         listen_time_out\u001b[38;5;241m=\u001b[39mparams\u001b[38;5;241m.\u001b[39mget(\u001b[38;5;124m\"\u001b[39m\u001b[38;5;124mtime_out\u001b[39m\u001b[38;5;124m\"\u001b[39m, \u001b[38;5;241m120\u001b[39m),\n\u001b[1;32m   3430\u001b[0m         num_machines\u001b[38;5;241m=\u001b[39mparams[\u001b[38;5;124m\"\u001b[39m\u001b[38;5;124mnum_machines\u001b[39m\u001b[38;5;124m\"\u001b[39m]\n\u001b[1;32m   3431\u001b[0m     )\n\u001b[1;32m   3432\u001b[0m \u001b[38;5;66;03m# construct booster object\u001b[39;00m\n\u001b[0;32m-> 3433\u001b[0m \u001b[43mtrain_set\u001b[49m\u001b[38;5;241;43m.\u001b[39;49m\u001b[43mconstruct\u001b[49m\u001b[43m(\u001b[49m\u001b[43m)\u001b[49m\n\u001b[1;32m   3434\u001b[0m \u001b[38;5;66;03m# copy the parameters from train_set\u001b[39;00m\n\u001b[1;32m   3435\u001b[0m params\u001b[38;5;241m.\u001b[39mupdate(train_set\u001b[38;5;241m.\u001b[39mget_params())\n",
      "File \u001b[0;32m~/.local/lib/python3.9/site-packages/lightgbm/basic.py:2462\u001b[0m, in \u001b[0;36mDataset.construct\u001b[0;34m(self)\u001b[0m\n\u001b[1;32m   2455\u001b[0m             \u001b[38;5;28mself\u001b[39m\u001b[38;5;241m.\u001b[39m_set_init_score_by_predictor(\n\u001b[1;32m   2456\u001b[0m                 predictor\u001b[38;5;241m=\u001b[39m\u001b[38;5;28mself\u001b[39m\u001b[38;5;241m.\u001b[39m_predictor,\n\u001b[1;32m   2457\u001b[0m                 data\u001b[38;5;241m=\u001b[39m\u001b[38;5;28mself\u001b[39m\u001b[38;5;241m.\u001b[39mdata,\n\u001b[1;32m   2458\u001b[0m                 used_indices\u001b[38;5;241m=\u001b[39mused_indices\n\u001b[1;32m   2459\u001b[0m             )\n\u001b[1;32m   2460\u001b[0m \u001b[38;5;28;01melse\u001b[39;00m:\n\u001b[1;32m   2461\u001b[0m     \u001b[38;5;66;03m# create train\u001b[39;00m\n\u001b[0;32m-> 2462\u001b[0m     \u001b[38;5;28;43mself\u001b[39;49m\u001b[38;5;241;43m.\u001b[39;49m\u001b[43m_lazy_init\u001b[49m\u001b[43m(\u001b[49m\u001b[43mdata\u001b[49m\u001b[38;5;241;43m=\u001b[39;49m\u001b[38;5;28;43mself\u001b[39;49m\u001b[38;5;241;43m.\u001b[39;49m\u001b[43mdata\u001b[49m\u001b[43m,\u001b[49m\u001b[43m \u001b[49m\u001b[43mlabel\u001b[49m\u001b[38;5;241;43m=\u001b[39;49m\u001b[38;5;28;43mself\u001b[39;49m\u001b[38;5;241;43m.\u001b[39;49m\u001b[43mlabel\u001b[49m\u001b[43m,\u001b[49m\u001b[43m \u001b[49m\u001b[43mreference\u001b[49m\u001b[38;5;241;43m=\u001b[39;49m\u001b[38;5;28;43;01mNone\u001b[39;49;00m\u001b[43m,\u001b[49m\n\u001b[1;32m   2463\u001b[0m \u001b[43m                    \u001b[49m\u001b[43mweight\u001b[49m\u001b[38;5;241;43m=\u001b[39;49m\u001b[38;5;28;43mself\u001b[39;49m\u001b[38;5;241;43m.\u001b[39;49m\u001b[43mweight\u001b[49m\u001b[43m,\u001b[49m\u001b[43m \u001b[49m\u001b[43mgroup\u001b[49m\u001b[38;5;241;43m=\u001b[39;49m\u001b[38;5;28;43mself\u001b[39;49m\u001b[38;5;241;43m.\u001b[39;49m\u001b[43mgroup\u001b[49m\u001b[43m,\u001b[49m\n\u001b[1;32m   2464\u001b[0m \u001b[43m                    \u001b[49m\u001b[43minit_score\u001b[49m\u001b[38;5;241;43m=\u001b[39;49m\u001b[38;5;28;43mself\u001b[39;49m\u001b[38;5;241;43m.\u001b[39;49m\u001b[43minit_score\u001b[49m\u001b[43m,\u001b[49m\u001b[43m \u001b[49m\u001b[43mpredictor\u001b[49m\u001b[38;5;241;43m=\u001b[39;49m\u001b[38;5;28;43mself\u001b[39;49m\u001b[38;5;241;43m.\u001b[39;49m\u001b[43m_predictor\u001b[49m\u001b[43m,\u001b[49m\n\u001b[1;32m   2465\u001b[0m \u001b[43m                    \u001b[49m\u001b[43mfeature_name\u001b[49m\u001b[38;5;241;43m=\u001b[39;49m\u001b[38;5;28;43mself\u001b[39;49m\u001b[38;5;241;43m.\u001b[39;49m\u001b[43mfeature_name\u001b[49m\u001b[43m,\u001b[49m\u001b[43m \u001b[49m\u001b[43mcategorical_feature\u001b[49m\u001b[38;5;241;43m=\u001b[39;49m\u001b[38;5;28;43mself\u001b[39;49m\u001b[38;5;241;43m.\u001b[39;49m\u001b[43mcategorical_feature\u001b[49m\u001b[43m,\u001b[49m\n\u001b[1;32m   2466\u001b[0m \u001b[43m                    \u001b[49m\u001b[43mparams\u001b[49m\u001b[38;5;241;43m=\u001b[39;49m\u001b[38;5;28;43mself\u001b[39;49m\u001b[38;5;241;43m.\u001b[39;49m\u001b[43mparams\u001b[49m\u001b[43m,\u001b[49m\u001b[43m \u001b[49m\u001b[43mposition\u001b[49m\u001b[38;5;241;43m=\u001b[39;49m\u001b[38;5;28;43mself\u001b[39;49m\u001b[38;5;241;43m.\u001b[39;49m\u001b[43mposition\u001b[49m\u001b[43m)\u001b[49m\n\u001b[1;32m   2467\u001b[0m \u001b[38;5;28;01mif\u001b[39;00m \u001b[38;5;28mself\u001b[39m\u001b[38;5;241m.\u001b[39mfree_raw_data:\n\u001b[1;32m   2468\u001b[0m     \u001b[38;5;28mself\u001b[39m\u001b[38;5;241m.\u001b[39mdata \u001b[38;5;241m=\u001b[39m \u001b[38;5;28;01mNone\u001b[39;00m\n",
      "File \u001b[0;32m~/.local/lib/python3.9/site-packages/lightgbm/basic.py:2022\u001b[0m, in \u001b[0;36mDataset._lazy_init\u001b[0;34m(self, data, label, reference, weight, group, init_score, predictor, feature_name, categorical_feature, params, position)\u001b[0m\n\u001b[1;32m   2020\u001b[0m     categorical_feature \u001b[38;5;241m=\u001b[39m reference\u001b[38;5;241m.\u001b[39mcategorical_feature\n\u001b[1;32m   2021\u001b[0m \u001b[38;5;28;01mif\u001b[39;00m \u001b[38;5;28misinstance\u001b[39m(data, pd_DataFrame):\n\u001b[0;32m-> 2022\u001b[0m     data, feature_name, categorical_feature, \u001b[38;5;28mself\u001b[39m\u001b[38;5;241m.\u001b[39mpandas_categorical \u001b[38;5;241m=\u001b[39m \u001b[43m_data_from_pandas\u001b[49m\u001b[43m(\u001b[49m\n\u001b[1;32m   2023\u001b[0m \u001b[43m        \u001b[49m\u001b[43mdata\u001b[49m\u001b[38;5;241;43m=\u001b[39;49m\u001b[43mdata\u001b[49m\u001b[43m,\u001b[49m\n\u001b[1;32m   2024\u001b[0m \u001b[43m        \u001b[49m\u001b[43mfeature_name\u001b[49m\u001b[38;5;241;43m=\u001b[39;49m\u001b[43mfeature_name\u001b[49m\u001b[43m,\u001b[49m\n\u001b[1;32m   2025\u001b[0m \u001b[43m        \u001b[49m\u001b[43mcategorical_feature\u001b[49m\u001b[38;5;241;43m=\u001b[39;49m\u001b[43mcategorical_feature\u001b[49m\u001b[43m,\u001b[49m\n\u001b[1;32m   2026\u001b[0m \u001b[43m        \u001b[49m\u001b[43mpandas_categorical\u001b[49m\u001b[38;5;241;43m=\u001b[39;49m\u001b[38;5;28;43mself\u001b[39;49m\u001b[38;5;241;43m.\u001b[39;49m\u001b[43mpandas_categorical\u001b[49m\n\u001b[1;32m   2027\u001b[0m \u001b[43m    \u001b[49m\u001b[43m)\u001b[49m\n\u001b[1;32m   2029\u001b[0m \u001b[38;5;66;03m# process for args\u001b[39;00m\n\u001b[1;32m   2030\u001b[0m params \u001b[38;5;241m=\u001b[39m {} \u001b[38;5;28;01mif\u001b[39;00m params \u001b[38;5;129;01mis\u001b[39;00m \u001b[38;5;28;01mNone\u001b[39;00m \u001b[38;5;28;01melse\u001b[39;00m params\n",
      "File \u001b[0;32m~/.local/lib/python3.9/site-packages/lightgbm/basic.py:825\u001b[0m, in \u001b[0;36m_data_from_pandas\u001b[0;34m(data, feature_name, categorical_feature, pandas_categorical)\u001b[0m\n\u001b[1;32m    821\u001b[0m df_dtypes\u001b[38;5;241m.\u001b[39mappend(np\u001b[38;5;241m.\u001b[39mfloat32)\n\u001b[1;32m    822\u001b[0m target_dtype \u001b[38;5;241m=\u001b[39m np\u001b[38;5;241m.\u001b[39mresult_type(\u001b[38;5;241m*\u001b[39mdf_dtypes)\n\u001b[1;32m    824\u001b[0m \u001b[38;5;28;01mreturn\u001b[39;00m (\n\u001b[0;32m--> 825\u001b[0m     \u001b[43m_pandas_to_numpy\u001b[49m\u001b[43m(\u001b[49m\u001b[43mdata\u001b[49m\u001b[43m,\u001b[49m\u001b[43m \u001b[49m\u001b[43mtarget_dtype\u001b[49m\u001b[38;5;241;43m=\u001b[39;49m\u001b[43mtarget_dtype\u001b[49m\u001b[43m)\u001b[49m,\n\u001b[1;32m    826\u001b[0m     feature_name,\n\u001b[1;32m    827\u001b[0m     categorical_feature,\n\u001b[1;32m    828\u001b[0m     pandas_categorical\n\u001b[1;32m    829\u001b[0m )\n",
      "File \u001b[0;32m~/.local/lib/python3.9/site-packages/lightgbm/basic.py:771\u001b[0m, in \u001b[0;36m_pandas_to_numpy\u001b[0;34m(data, target_dtype)\u001b[0m\n\u001b[1;32m    767\u001b[0m \u001b[38;5;28;01mdef\u001b[39;00m \u001b[38;5;21m_pandas_to_numpy\u001b[39m(\n\u001b[1;32m    768\u001b[0m     data: pd_DataFrame,\n\u001b[1;32m    769\u001b[0m     target_dtype: \u001b[38;5;124m\"\u001b[39m\u001b[38;5;124mnp.typing.DTypeLike\u001b[39m\u001b[38;5;124m\"\u001b[39m\n\u001b[1;32m    770\u001b[0m ) \u001b[38;5;241m-\u001b[39m\u001b[38;5;241m>\u001b[39m np\u001b[38;5;241m.\u001b[39mndarray:\n\u001b[0;32m--> 771\u001b[0m     \u001b[43m_check_for_bad_pandas_dtypes\u001b[49m\u001b[43m(\u001b[49m\u001b[43mdata\u001b[49m\u001b[38;5;241;43m.\u001b[39;49m\u001b[43mdtypes\u001b[49m\u001b[43m)\u001b[49m\n\u001b[1;32m    772\u001b[0m     \u001b[38;5;28;01mtry\u001b[39;00m:\n\u001b[1;32m    773\u001b[0m         \u001b[38;5;66;03m# most common case (no nullable dtypes)\u001b[39;00m\n\u001b[1;32m    774\u001b[0m         \u001b[38;5;28;01mreturn\u001b[39;00m data\u001b[38;5;241m.\u001b[39mto_numpy(dtype\u001b[38;5;241m=\u001b[39mtarget_dtype, copy\u001b[38;5;241m=\u001b[39m\u001b[38;5;28;01mFalse\u001b[39;00m)\n",
      "File \u001b[0;32m~/.local/lib/python3.9/site-packages/lightgbm/basic.py:763\u001b[0m, in \u001b[0;36m_check_for_bad_pandas_dtypes\u001b[0;34m(pandas_dtypes_series)\u001b[0m\n\u001b[1;32m    757\u001b[0m bad_pandas_dtypes \u001b[38;5;241m=\u001b[39m [\n\u001b[1;32m    758\u001b[0m     \u001b[38;5;124mf\u001b[39m\u001b[38;5;124m'\u001b[39m\u001b[38;5;132;01m{\u001b[39;00mcolumn_name\u001b[38;5;132;01m}\u001b[39;00m\u001b[38;5;124m: \u001b[39m\u001b[38;5;132;01m{\u001b[39;00mpandas_dtype\u001b[38;5;132;01m}\u001b[39;00m\u001b[38;5;124m'\u001b[39m\n\u001b[1;32m    759\u001b[0m     \u001b[38;5;28;01mfor\u001b[39;00m column_name, pandas_dtype \u001b[38;5;129;01min\u001b[39;00m pandas_dtypes_series\u001b[38;5;241m.\u001b[39mitems()\n\u001b[1;32m    760\u001b[0m     \u001b[38;5;28;01mif\u001b[39;00m \u001b[38;5;129;01mnot\u001b[39;00m _is_allowed_numpy_dtype(pandas_dtype\u001b[38;5;241m.\u001b[39mtype)\n\u001b[1;32m    761\u001b[0m ]\n\u001b[1;32m    762\u001b[0m \u001b[38;5;28;01mif\u001b[39;00m bad_pandas_dtypes:\n\u001b[0;32m--> 763\u001b[0m     \u001b[38;5;28;01mraise\u001b[39;00m \u001b[38;5;167;01mValueError\u001b[39;00m(\u001b[38;5;124m'\u001b[39m\u001b[38;5;124mpandas dtypes must be int, float or bool.\u001b[39m\u001b[38;5;130;01m\\n\u001b[39;00m\u001b[38;5;124m'\u001b[39m\n\u001b[1;32m    764\u001b[0m                      \u001b[38;5;124mf\u001b[39m\u001b[38;5;124m'\u001b[39m\u001b[38;5;124mFields with bad pandas dtypes: \u001b[39m\u001b[38;5;132;01m{\u001b[39;00m\u001b[38;5;124m\"\u001b[39m\u001b[38;5;124m, \u001b[39m\u001b[38;5;124m\"\u001b[39m\u001b[38;5;241m.\u001b[39mjoin(bad_pandas_dtypes)\u001b[38;5;132;01m}\u001b[39;00m\u001b[38;5;124m'\u001b[39m)\n",
      "\u001b[0;31mValueError\u001b[0m: pandas dtypes must be int, float or bool.\nFields with bad pandas dtypes: domain_top1: object, domain_top2: object, domain_top3: object, domain_top4: object, domain_top5: object, device_type_top1: object, device_type_top2: object, device_type_top3: object, brand_top1: object, brand_top2: object"
     ]
    }
   ],
   "source": [
    "import lightgbm as lgb\n",
    "from lightgbm import LGBMClassifier\n",
    "from sklearn.preprocessing import TargetEncoder\n",
    "\n",
    "cat_cols = [\"domain_top1\", \"domain_top2\", \"domain_top3\", \"domain_top4\", \"domain_top5\", \"device_type_top1\", \"device_type_top2\", \"device_type_top3\", \"brand_top1\", \"brand_top2\"]\n",
    "X_train, X_test, y_train, y_test = train_test_split(user_featured.drop([\"gender\", \"age\"], axis=1), user_featured[[\"gender\", \"age\"]], train_size=0.8, stratify=user_featured[\"gender\"])\n",
    "\n",
    "train_data = lgb.Dataset(X_train, label=y_train, categorical_feature=cat_cols)\n",
    "valid_data = lgb.Dataset(X_test, label=y_test, reference=train_data)\n",
    "\n",
    "params = {\n",
    "    'objective': 'binary',\n",
    "    'metric': 'binary_logloss',\n",
    "    'boosting_type': 'gbdt',\n",
    "    'max_depth': 7,\n",
    "    'learning_rate': 0.3,\n",
    "}\n",
    "\n",
    "num_round = 200\n",
    "bst = lgb.train(params, train_data, num_round,\n",
    "                valid_sets=[train_data, valid_data])"
   ]
  },
  {
   "cell_type": "code",
   "execution_count": 26,
   "id": "fcb6f025-c9a1-434f-9a3e-183e748a706a",
   "metadata": {
    "tags": []
   },
   "outputs": [
    {
     "ename": "ValueError",
     "evalue": "Found input variables with inconsistent numbers of samples: [1, 9725928]",
     "output_type": "error",
     "traceback": [
      "\u001b[0;31m---------------------------------------------------------------------------\u001b[0m",
      "\u001b[0;31mValueError\u001b[0m                                Traceback (most recent call last)",
      "Cell \u001b[0;32mIn[26], line 6\u001b[0m\n\u001b[1;32m      4\u001b[0m y \u001b[38;5;241m=\u001b[39m y_train[\u001b[38;5;124m\"\u001b[39m\u001b[38;5;124mgender\u001b[39m\u001b[38;5;124m\"\u001b[39m]\n\u001b[1;32m      5\u001b[0m enc_auto \u001b[38;5;241m=\u001b[39m TargetEncoder(smooth\u001b[38;5;241m=\u001b[39m\u001b[38;5;124m\"\u001b[39m\u001b[38;5;124mauto\u001b[39m\u001b[38;5;124m\"\u001b[39m)\n\u001b[0;32m----> 6\u001b[0m X_trans \u001b[38;5;241m=\u001b[39m \u001b[43menc_auto\u001b[49m\u001b[38;5;241;43m.\u001b[39;49m\u001b[43mfit_transform\u001b[49m\u001b[43m(\u001b[49m\u001b[43mX\u001b[49m\u001b[43m,\u001b[49m\u001b[43m \u001b[49m\u001b[43my\u001b[49m\u001b[43m)\u001b[49m\n",
      "File \u001b[0;32m~/.local/lib/python3.9/site-packages/sklearn/utils/_set_output.py:295\u001b[0m, in \u001b[0;36m_wrap_method_output.<locals>.wrapped\u001b[0;34m(self, X, *args, **kwargs)\u001b[0m\n\u001b[1;32m    293\u001b[0m \u001b[38;5;129m@wraps\u001b[39m(f)\n\u001b[1;32m    294\u001b[0m \u001b[38;5;28;01mdef\u001b[39;00m \u001b[38;5;21mwrapped\u001b[39m(\u001b[38;5;28mself\u001b[39m, X, \u001b[38;5;241m*\u001b[39margs, \u001b[38;5;241m*\u001b[39m\u001b[38;5;241m*\u001b[39mkwargs):\n\u001b[0;32m--> 295\u001b[0m     data_to_wrap \u001b[38;5;241m=\u001b[39m \u001b[43mf\u001b[49m\u001b[43m(\u001b[49m\u001b[38;5;28;43mself\u001b[39;49m\u001b[43m,\u001b[49m\u001b[43m \u001b[49m\u001b[43mX\u001b[49m\u001b[43m,\u001b[49m\u001b[43m \u001b[49m\u001b[38;5;241;43m*\u001b[39;49m\u001b[43margs\u001b[49m\u001b[43m,\u001b[49m\u001b[43m \u001b[49m\u001b[38;5;241;43m*\u001b[39;49m\u001b[38;5;241;43m*\u001b[39;49m\u001b[43mkwargs\u001b[49m\u001b[43m)\u001b[49m\n\u001b[1;32m    296\u001b[0m     \u001b[38;5;28;01mif\u001b[39;00m \u001b[38;5;28misinstance\u001b[39m(data_to_wrap, \u001b[38;5;28mtuple\u001b[39m):\n\u001b[1;32m    297\u001b[0m         \u001b[38;5;66;03m# only wrap the first output for cross decomposition\u001b[39;00m\n\u001b[1;32m    298\u001b[0m         return_tuple \u001b[38;5;241m=\u001b[39m (\n\u001b[1;32m    299\u001b[0m             _wrap_data_with_container(method, data_to_wrap[\u001b[38;5;241m0\u001b[39m], X, \u001b[38;5;28mself\u001b[39m),\n\u001b[1;32m    300\u001b[0m             \u001b[38;5;241m*\u001b[39mdata_to_wrap[\u001b[38;5;241m1\u001b[39m:],\n\u001b[1;32m    301\u001b[0m         )\n",
      "File \u001b[0;32m~/.local/lib/python3.9/site-packages/sklearn/base.py:1474\u001b[0m, in \u001b[0;36m_fit_context.<locals>.decorator.<locals>.wrapper\u001b[0;34m(estimator, *args, **kwargs)\u001b[0m\n\u001b[1;32m   1467\u001b[0m     estimator\u001b[38;5;241m.\u001b[39m_validate_params()\n\u001b[1;32m   1469\u001b[0m \u001b[38;5;28;01mwith\u001b[39;00m config_context(\n\u001b[1;32m   1470\u001b[0m     skip_parameter_validation\u001b[38;5;241m=\u001b[39m(\n\u001b[1;32m   1471\u001b[0m         prefer_skip_nested_validation \u001b[38;5;129;01mor\u001b[39;00m global_skip_validation\n\u001b[1;32m   1472\u001b[0m     )\n\u001b[1;32m   1473\u001b[0m ):\n\u001b[0;32m-> 1474\u001b[0m     \u001b[38;5;28;01mreturn\u001b[39;00m \u001b[43mfit_method\u001b[49m\u001b[43m(\u001b[49m\u001b[43mestimator\u001b[49m\u001b[43m,\u001b[49m\u001b[43m \u001b[49m\u001b[38;5;241;43m*\u001b[39;49m\u001b[43margs\u001b[49m\u001b[43m,\u001b[49m\u001b[43m \u001b[49m\u001b[38;5;241;43m*\u001b[39;49m\u001b[38;5;241;43m*\u001b[39;49m\u001b[43mkwargs\u001b[49m\u001b[43m)\u001b[49m\n",
      "File \u001b[0;32m~/.local/lib/python3.9/site-packages/sklearn/preprocessing/_target_encoder.py:256\u001b[0m, in \u001b[0;36mTargetEncoder.fit_transform\u001b[0;34m(self, X, y)\u001b[0m\n\u001b[1;32m    233\u001b[0m \u001b[38;5;250m\u001b[39m\u001b[38;5;124;03m\"\"\"Fit :class:`TargetEncoder` and transform X with the target encoding.\u001b[39;00m\n\u001b[1;32m    234\u001b[0m \n\u001b[1;32m    235\u001b[0m \u001b[38;5;124;03m.. note::\u001b[39;00m\n\u001b[0;32m   (...)\u001b[0m\n\u001b[1;32m    252\u001b[0m \u001b[38;5;124;03m    Transformed input.\u001b[39;00m\n\u001b[1;32m    253\u001b[0m \u001b[38;5;124;03m\"\"\"\u001b[39;00m\n\u001b[1;32m    254\u001b[0m \u001b[38;5;28;01mfrom\u001b[39;00m \u001b[38;5;21;01m.\u001b[39;00m\u001b[38;5;21;01m.\u001b[39;00m\u001b[38;5;21;01mmodel_selection\u001b[39;00m \u001b[38;5;28;01mimport\u001b[39;00m KFold, StratifiedKFold  \u001b[38;5;66;03m# avoid circular import\u001b[39;00m\n\u001b[0;32m--> 256\u001b[0m X_ordinal, X_known_mask, y_encoded, n_categories \u001b[38;5;241m=\u001b[39m \u001b[38;5;28;43mself\u001b[39;49m\u001b[38;5;241;43m.\u001b[39;49m\u001b[43m_fit_encodings_all\u001b[49m\u001b[43m(\u001b[49m\u001b[43mX\u001b[49m\u001b[43m,\u001b[49m\u001b[43m \u001b[49m\u001b[43my\u001b[49m\u001b[43m)\u001b[49m\n\u001b[1;32m    258\u001b[0m \u001b[38;5;66;03m# The cv splitter is voluntarily restricted to *KFold to enforce non\u001b[39;00m\n\u001b[1;32m    259\u001b[0m \u001b[38;5;66;03m# overlapping validation folds, otherwise the fit_transform output will\u001b[39;00m\n\u001b[1;32m    260\u001b[0m \u001b[38;5;66;03m# not be well-specified.\u001b[39;00m\n\u001b[1;32m    261\u001b[0m \u001b[38;5;28;01mif\u001b[39;00m \u001b[38;5;28mself\u001b[39m\u001b[38;5;241m.\u001b[39mtarget_type_ \u001b[38;5;241m==\u001b[39m \u001b[38;5;124m\"\u001b[39m\u001b[38;5;124mcontinuous\u001b[39m\u001b[38;5;124m\"\u001b[39m:\n",
      "File \u001b[0;32m~/.local/lib/python3.9/site-packages/sklearn/preprocessing/_target_encoder.py:355\u001b[0m, in \u001b[0;36mTargetEncoder._fit_encodings_all\u001b[0;34m(self, X, y)\u001b[0m\n\u001b[1;32m    349\u001b[0m \u001b[38;5;66;03m# avoid circular import\u001b[39;00m\n\u001b[1;32m    350\u001b[0m \u001b[38;5;28;01mfrom\u001b[39;00m \u001b[38;5;21;01m.\u001b[39;00m\u001b[38;5;21;01m.\u001b[39;00m\u001b[38;5;21;01mpreprocessing\u001b[39;00m \u001b[38;5;28;01mimport\u001b[39;00m (\n\u001b[1;32m    351\u001b[0m     LabelBinarizer,\n\u001b[1;32m    352\u001b[0m     LabelEncoder,\n\u001b[1;32m    353\u001b[0m )\n\u001b[0;32m--> 355\u001b[0m \u001b[43mcheck_consistent_length\u001b[49m\u001b[43m(\u001b[49m\u001b[43mX\u001b[49m\u001b[43m,\u001b[49m\u001b[43m \u001b[49m\u001b[43my\u001b[49m\u001b[43m)\u001b[49m\n\u001b[1;32m    356\u001b[0m \u001b[38;5;28mself\u001b[39m\u001b[38;5;241m.\u001b[39m_fit(X, handle_unknown\u001b[38;5;241m=\u001b[39m\u001b[38;5;124m\"\u001b[39m\u001b[38;5;124mignore\u001b[39m\u001b[38;5;124m\"\u001b[39m, force_all_finite\u001b[38;5;241m=\u001b[39m\u001b[38;5;124m\"\u001b[39m\u001b[38;5;124mallow-nan\u001b[39m\u001b[38;5;124m\"\u001b[39m)\n\u001b[1;32m    358\u001b[0m \u001b[38;5;28;01mif\u001b[39;00m \u001b[38;5;28mself\u001b[39m\u001b[38;5;241m.\u001b[39mtarget_type \u001b[38;5;241m==\u001b[39m \u001b[38;5;124m\"\u001b[39m\u001b[38;5;124mauto\u001b[39m\u001b[38;5;124m\"\u001b[39m:\n",
      "File \u001b[0;32m~/.local/lib/python3.9/site-packages/sklearn/utils/validation.py:457\u001b[0m, in \u001b[0;36mcheck_consistent_length\u001b[0;34m(*arrays)\u001b[0m\n\u001b[1;32m    455\u001b[0m uniques \u001b[38;5;241m=\u001b[39m np\u001b[38;5;241m.\u001b[39munique(lengths)\n\u001b[1;32m    456\u001b[0m \u001b[38;5;28;01mif\u001b[39;00m \u001b[38;5;28mlen\u001b[39m(uniques) \u001b[38;5;241m>\u001b[39m \u001b[38;5;241m1\u001b[39m:\n\u001b[0;32m--> 457\u001b[0m     \u001b[38;5;28;01mraise\u001b[39;00m \u001b[38;5;167;01mValueError\u001b[39;00m(\n\u001b[1;32m    458\u001b[0m         \u001b[38;5;124m\"\u001b[39m\u001b[38;5;124mFound input variables with inconsistent numbers of samples: \u001b[39m\u001b[38;5;132;01m%r\u001b[39;00m\u001b[38;5;124m\"\u001b[39m\n\u001b[1;32m    459\u001b[0m         \u001b[38;5;241m%\u001b[39m [\u001b[38;5;28mint\u001b[39m(l) \u001b[38;5;28;01mfor\u001b[39;00m l \u001b[38;5;129;01min\u001b[39;00m lengths]\n\u001b[1;32m    460\u001b[0m     )\n",
      "\u001b[0;31mValueError\u001b[0m: Found input variables with inconsistent numbers of samples: [1, 9725928]"
     ]
    }
   ],
   "source": [
    "import numpy as np\n",
    "from sklearn.preprocessing import TargetEncoder\n",
    "\n",
    "\n",
    "X = np.array(X_train[\"domain_top1\"]).reshape(1, -1)\n",
    "y = y_train[\"gender\"]\n",
    "enc_auto = TargetEncoder(smooth=\"auto\")\n",
    "X_trans = enc_auto.fit_transform(X, y)"
   ]
  },
  {
   "cell_type": "code",
   "execution_count": 24,
   "id": "0b502654-44f0-443f-893a-240348d7c91b",
   "metadata": {
    "tags": []
   },
   "outputs": [
    {
     "data": {
      "text/plain": [
       "(9725928,)"
      ]
     },
     "execution_count": 24,
     "metadata": {},
     "output_type": "execute_result"
    }
   ],
   "source": [
    "y.shape"
   ]
  },
  {
   "cell_type": "markdown",
   "id": "20dfa739-f610-4ed0-85ed-c51e5257c2c0",
   "metadata": {},
   "source": [
    "## Убираем за собой\n",
    "\n",
    "В конце работы можем размонтировать директорию:"
   ]
  },
  {
   "cell_type": "code",
   "execution_count": 19,
   "id": "1b0e539a-3fcb-4eaf-a692-0979e7ba2a63",
   "metadata": {
    "tags": []
   },
   "outputs": [
    {
     "name": "stdout",
     "output_type": "stream",
     "text": [
      "umount: /home/datadisk/jupyter-vkhack/vkhack/gender_prediction/mnt: not mounted.\n"
     ]
    }
   ],
   "source": [
    "!umount mnt"
   ]
  }
 ],
 "metadata": {
  "kernelspec": {
   "display_name": "Python 3 (ipykernel)",
   "language": "python",
   "name": "python3"
  },
  "language_info": {
   "codemirror_mode": {
    "name": "ipython",
    "version": 3
   },
   "file_extension": ".py",
   "mimetype": "text/x-python",
   "name": "python",
   "nbconvert_exporter": "python",
   "pygments_lexer": "ipython3",
   "version": "3.9.7"
  }
 },
 "nbformat": 4,
 "nbformat_minor": 5
}
